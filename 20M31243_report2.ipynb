{
  "nbformat": 4,
  "nbformat_minor": 0,
  "metadata": {
    "kernelspec": {
      "display_name": "Python 3",
      "language": "python",
      "name": "python3"
    },
    "language_info": {
      "codemirror_mode": {
        "name": "ipython",
        "version": 3
      },
      "file_extension": ".py",
      "mimetype": "text/x-python",
      "name": "python",
      "nbconvert_exporter": "python",
      "pygments_lexer": "ipython3",
      "version": "3.5.2"
    },
    "colab": {
      "name": "(YourID)_report2.ipynb",
      "provenance": []
    }
  },
  "cells": [
    {
      "cell_type": "markdown",
      "metadata": {
        "id": "dkTtw7ry_d0e",
        "colab_type": "text"
      },
      "source": [
        "# Machine Learning (second part): Intermediate report\n",
        "\n",
        "*Write your name and your student ID below.*"
      ]
    },
    {
      "cell_type": "code",
      "metadata": {
        "id": "Ww-U1HBKaYws",
        "colab_type": "code",
        "colab": {}
      },
      "source": [
        "# Modify these lines.\n",
        "student_name = ''\n",
        "student_id = ''"
      ],
      "execution_count": null,
      "outputs": []
    },
    {
      "cell_type": "markdown",
      "metadata": {
        "id": "wfXrerPV_d0g",
        "colab_type": "text"
      },
      "source": [
        "Prepare an environment for running Python codes on Jupyter notebook. The most easiest way is to use [Google Colaboratory](https://colab.research.google.com/).\n",
        "\n",
        "Write codes for the following four problems, and submit the notebook file (`.ipynb`) on OCW. **We do not accept a report in other formats (e.g., Word, PDF, HTML)**. You can use any deep learning library for completing this report. Write a code at the specified cell in the notebook. You can add more cells if necessary. Submit this report even if you cannot solve all problems.\n",
        "\n",
        "These are the links to the sample codes used in the lecture:\n",
        "\n",
        "+ [Binary classification](https://github.com/chokkan/deeplearning/blob/master/notebook/binary.ipynb)\n",
        "+ [MNIST](https://github.com/chokkan/deeplearning/blob/master/notebook/mnist.ipynb)\n",
        "\n",
        "*Please accept that your report may be shared among students who take this course.*"
      ]
    },
    {
      "cell_type": "markdown",
      "metadata": {
        "id": "0fQKz7pQ_d0h",
        "colab_type": "text"
      },
      "source": [
        "## 1. Multi-class classification on MNIST\n",
        "\n",
        "Train a model on the training set of MNIST, and report the performance of the model on the test set in accuracy.\n",
        "\n",
        "One can use the same code shown in the lecture. Write a code here and show the output."
      ]
    },
    {
      "cell_type": "code",
      "metadata": {
        "id": "-IoY44Q6_d0i",
        "colab_type": "code",
        "colab": {}
      },
      "source": [
        ""
      ],
      "execution_count": null,
      "outputs": []
    },
    {
      "cell_type": "markdown",
      "metadata": {
        "id": "uVf811Rg_d0n",
        "colab_type": "text"
      },
      "source": [
        "## 2. Confusion matrix\n",
        "\n",
        "Show a confusion matrix of the predictions of the model on the test set. This is an example of a confusion matrix.\n",
        "\n",
        "![example](https://github.com/chokkan/deeplearningclass/blob/master/assignment/example-confusion-matrix.png?raw=1)\n",
        "\n",
        "Write a code here and show the confusion matrix."
      ]
    },
    {
      "cell_type": "code",
      "metadata": {
        "id": "Fb_1WliA_d0n",
        "colab_type": "code",
        "colab": {}
      },
      "source": [
        ""
      ],
      "execution_count": null,
      "outputs": []
    },
    {
      "cell_type": "markdown",
      "metadata": {
        "id": "XaG8Ccnr_d0q",
        "colab_type": "text"
      },
      "source": [
        "## 3. Top-3 easy and confusing examples\n",
        "\n",
        "Show the top three easy and three confusing, respectively, images where the model recognized their digits with strong confidences. More specifically, let $y_n$ and $\\hat{y}_n$ the true and predicted, respectively, digits of the image $x_n$. We want to find three images with high $P(\\hat{y}_n | x_n)$ when $y_n = \\hat{y}_n$ (for easy three examples) and $y_n \\neq \\hat{y}_n$ (for confusing three examples).\n",
        "\n",
        "For each example, please show $y_n$, $P(y_n | x_n)$, $\\hat{y}_n$, and $P(\\hat{y}_n | x_n)$ together with the image $x_n$. This is an example of an output for an image (you need this kind of outputs for top-three easy and top-three confusing images, in other words, for six images in total).\n",
        "\n",
        "![example](https://github.com/chokkan/deeplearningclass/blob/master/assignment/example-confusing-sample.png?raw=1)\n",
        "\n",
        "Write a code here and show the output."
      ]
    },
    {
      "cell_type": "code",
      "metadata": {
        "id": "7u_upWv7_d0r",
        "colab_type": "code",
        "colab": {}
      },
      "source": [
        ""
      ],
      "execution_count": null,
      "outputs": []
    },
    {
      "cell_type": "markdown",
      "metadata": {
        "id": "NAJJeo_sAdwQ",
        "colab_type": "text"
      },
      "source": [
        "## 4. Recognize your handwritten digits\n",
        "\n",
        "Prepare three image files each of which presents a digit written by you. For each image, apply the MNIST model you trained, and show the probability estimate $\\hat{y} \\in \\mathbb{R}^{10}$ (10-dimensional vector) for all possible digits as well as the image itself.\n",
        "\n",
        "Please refer to [this notebook](https://colab.research.google.com/notebooks/io.ipynb) about how to upload a file to Google Colaboratory."
      ]
    },
    {
      "cell_type": "markdown",
      "metadata": {
        "id": "ovNmX49XB_Lc",
        "colab_type": "text"
      },
      "source": [
        "### Image #1\n",
        "\n",
        "Write the code to show the image #1 here."
      ]
    },
    {
      "cell_type": "code",
      "metadata": {
        "id": "HipUkxUPAyfk",
        "colab_type": "code",
        "colab": {}
      },
      "source": [
        ""
      ],
      "execution_count": null,
      "outputs": []
    },
    {
      "cell_type": "markdown",
      "metadata": {
        "id": "EaV0peeFCGT8",
        "colab_type": "text"
      },
      "source": [
        "Write the code to show the probability estimate $\\hat{y} \\in \\mathbb{R}^{10}$ for the image."
      ]
    },
    {
      "cell_type": "code",
      "metadata": {
        "id": "D73C4LSeCLYU",
        "colab_type": "code",
        "colab": {}
      },
      "source": [
        ""
      ],
      "execution_count": null,
      "outputs": []
    },
    {
      "cell_type": "markdown",
      "metadata": {
        "id": "fm-fUul_CNA-",
        "colab_type": "text"
      },
      "source": [
        "### Image #2\n",
        "\n",
        "Write the code to show the image #2 here."
      ]
    },
    {
      "cell_type": "code",
      "metadata": {
        "id": "M1dG_SNCCOF7",
        "colab_type": "code",
        "colab": {}
      },
      "source": [
        ""
      ],
      "execution_count": null,
      "outputs": []
    },
    {
      "cell_type": "markdown",
      "metadata": {
        "id": "s_byIyndCS9L",
        "colab_type": "text"
      },
      "source": [
        "Write the code to show the probability estimate $\\hat{y} \\in \\mathbb{R}^{10}$ for the image.\n"
      ]
    },
    {
      "cell_type": "code",
      "metadata": {
        "id": "Uqt005zGCWJj",
        "colab_type": "code",
        "colab": {}
      },
      "source": [
        ""
      ],
      "execution_count": null,
      "outputs": []
    },
    {
      "cell_type": "markdown",
      "metadata": {
        "id": "SMFzIzWrCYwZ",
        "colab_type": "text"
      },
      "source": [
        "### Image #3\n",
        "\n",
        "Write the code to show the image #3 here."
      ]
    },
    {
      "cell_type": "code",
      "metadata": {
        "id": "Saj3U8kOCcuA",
        "colab_type": "code",
        "colab": {}
      },
      "source": [
        ""
      ],
      "execution_count": null,
      "outputs": []
    },
    {
      "cell_type": "markdown",
      "metadata": {
        "id": "jCITQpGpCd8_",
        "colab_type": "text"
      },
      "source": [
        "Write the code to show the probability estimate $\\hat{y} \\in \\mathbb{R}^{10}$ for the image."
      ]
    },
    {
      "cell_type": "code",
      "metadata": {
        "id": "0Eqz2fABCggq",
        "colab_type": "code",
        "colab": {}
      },
      "source": [
        ""
      ],
      "execution_count": null,
      "outputs": []
    }
  ]
}